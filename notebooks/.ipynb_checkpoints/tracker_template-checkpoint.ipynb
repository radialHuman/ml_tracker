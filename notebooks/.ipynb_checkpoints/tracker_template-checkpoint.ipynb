{
 "cells": [
  {
   "cell_type": "code",
   "execution_count": 13,
   "id": "912c8b2e",
   "metadata": {},
   "outputs": [],
   "source": [
    "from pandas import read_csv\n",
    "from numpy import random, sqrt\n",
    "from supabase_py import create_client, Client\n",
    "from json import load\n",
    "from hashlib import md5\n",
    "from datetime import datetime\n",
    "from pickle import dump\n",
    "import pickle\n",
    "from numpy import array"
   ]
  },
  {
   "cell_type": "code",
   "execution_count": 2,
   "id": "070dc91c",
   "metadata": {},
   "outputs": [],
   "source": [
    "from sklearn.metrics import mean_squared_error, mean_absolute_error, r2_score\n",
    "from sklearn.model_selection import train_test_split\n",
    "from sklearn.tree import DecisionTreeRegressor\n",
    "from sklearn.model_selection import cross_val_score"
   ]
  },
  {
   "cell_type": "code",
   "execution_count": 3,
   "id": "77efbacd",
   "metadata": {},
   "outputs": [],
   "source": [
    "now = str(datetime.today()).replace(\" \", \"\").replace(\":\", \"\").replace(\"-\", \"\").replace(\".\", \"\")"
   ]
  },
  {
   "cell_type": "code",
   "execution_count": 4,
   "id": "e7169a72",
   "metadata": {},
   "outputs": [],
   "source": [
    "# connection to Supabase\n",
    "cred = load(open('../configuration/sbConfig.json'))\n",
    "supabase: Client = create_client(cred[\"db\"], cred[\"key\"])"
   ]
  },
  {
   "cell_type": "code",
   "execution_count": 5,
   "id": "58f7bce6",
   "metadata": {},
   "outputs": [],
   "source": [
    "raw_path = \"../data/raw/\"\n",
    "clean_path = \"../data/cleaned/\"\n",
    "model_path = \"../model/\""
   ]
  },
  {
   "cell_type": "markdown",
   "id": "26dd7537",
   "metadata": {},
   "source": [
    "# to be changed"
   ]
  },
  {
   "cell_type": "code",
   "execution_count": 6,
   "id": "7b6a3667",
   "metadata": {},
   "outputs": [],
   "source": [
    "raw_file = \"winequality-red.csv\"\n",
    "cleaned_file = \"winequality-red.csv\""
   ]
  },
  {
   "cell_type": "code",
   "execution_count": 7,
   "id": "1dda931f",
   "metadata": {},
   "outputs": [],
   "source": [
    "def eval_metrics(actual, pred):\n",
    "    rmse = sqrt(mean_squared_error(actual, pred))\n",
    "    mae = mean_absolute_error(actual, pred)\n",
    "    r2 = r2_score(actual, pred)\n",
    "    return rmse, mae, r2"
   ]
  },
  {
   "cell_type": "markdown",
   "id": "939641a7",
   "metadata": {},
   "source": [
    "# pre-processing"
   ]
  },
  {
   "cell_type": "code",
   "execution_count": 8,
   "id": "ee4bb4ac",
   "metadata": {},
   "outputs": [],
   "source": [
    "raw_df = read_csv(f\"{raw_path}{raw_file}\", sep=\";\")\n",
    "raw_df.columns = [i.replace(\" \",\"_\") for i in raw_df.columns]\n",
    "'''\n",
    "\n",
    "some operation here to clean it, feature engineering, stadardizing, normalizing, reducing etc\n",
    "\n",
    "''' \n",
    "raw_df.to_csv(f\"{clean_path}{cleaned_file}\", sep=\";\",index=False)"
   ]
  },
  {
   "cell_type": "markdown",
   "id": "e479a0ca",
   "metadata": {},
   "source": [
    "# after pre-processing"
   ]
  },
  {
   "cell_type": "code",
   "execution_count": 9,
   "id": "97e40ed4",
   "metadata": {},
   "outputs": [
    {
     "data": {
      "text/html": [
       "<div>\n",
       "<style scoped>\n",
       "    .dataframe tbody tr th:only-of-type {\n",
       "        vertical-align: middle;\n",
       "    }\n",
       "\n",
       "    .dataframe tbody tr th {\n",
       "        vertical-align: top;\n",
       "    }\n",
       "\n",
       "    .dataframe thead th {\n",
       "        text-align: right;\n",
       "    }\n",
       "</style>\n",
       "<table border=\"1\" class=\"dataframe\">\n",
       "  <thead>\n",
       "    <tr style=\"text-align: right;\">\n",
       "      <th></th>\n",
       "      <th>fixed_acidity</th>\n",
       "      <th>volatile_acidity</th>\n",
       "      <th>citric_acid</th>\n",
       "      <th>residual_sugar</th>\n",
       "      <th>chlorides</th>\n",
       "      <th>free_sulfur_dioxide</th>\n",
       "      <th>total_sulfur_dioxide</th>\n",
       "      <th>density</th>\n",
       "      <th>pH</th>\n",
       "      <th>sulphates</th>\n",
       "      <th>alcohol</th>\n",
       "      <th>quality</th>\n",
       "    </tr>\n",
       "  </thead>\n",
       "  <tbody>\n",
       "    <tr>\n",
       "      <th>0</th>\n",
       "      <td>7.4</td>\n",
       "      <td>0.70</td>\n",
       "      <td>0.00</td>\n",
       "      <td>1.9</td>\n",
       "      <td>0.076</td>\n",
       "      <td>11.0</td>\n",
       "      <td>34.0</td>\n",
       "      <td>0.9978</td>\n",
       "      <td>3.51</td>\n",
       "      <td>0.56</td>\n",
       "      <td>9.4</td>\n",
       "      <td>5</td>\n",
       "    </tr>\n",
       "    <tr>\n",
       "      <th>1</th>\n",
       "      <td>7.8</td>\n",
       "      <td>0.88</td>\n",
       "      <td>0.00</td>\n",
       "      <td>2.6</td>\n",
       "      <td>0.098</td>\n",
       "      <td>25.0</td>\n",
       "      <td>67.0</td>\n",
       "      <td>0.9968</td>\n",
       "      <td>3.20</td>\n",
       "      <td>0.68</td>\n",
       "      <td>9.8</td>\n",
       "      <td>5</td>\n",
       "    </tr>\n",
       "    <tr>\n",
       "      <th>2</th>\n",
       "      <td>7.8</td>\n",
       "      <td>0.76</td>\n",
       "      <td>0.04</td>\n",
       "      <td>2.3</td>\n",
       "      <td>0.092</td>\n",
       "      <td>15.0</td>\n",
       "      <td>54.0</td>\n",
       "      <td>0.9970</td>\n",
       "      <td>3.26</td>\n",
       "      <td>0.65</td>\n",
       "      <td>9.8</td>\n",
       "      <td>5</td>\n",
       "    </tr>\n",
       "    <tr>\n",
       "      <th>3</th>\n",
       "      <td>11.2</td>\n",
       "      <td>0.28</td>\n",
       "      <td>0.56</td>\n",
       "      <td>1.9</td>\n",
       "      <td>0.075</td>\n",
       "      <td>17.0</td>\n",
       "      <td>60.0</td>\n",
       "      <td>0.9980</td>\n",
       "      <td>3.16</td>\n",
       "      <td>0.58</td>\n",
       "      <td>9.8</td>\n",
       "      <td>6</td>\n",
       "    </tr>\n",
       "    <tr>\n",
       "      <th>4</th>\n",
       "      <td>7.4</td>\n",
       "      <td>0.70</td>\n",
       "      <td>0.00</td>\n",
       "      <td>1.9</td>\n",
       "      <td>0.076</td>\n",
       "      <td>11.0</td>\n",
       "      <td>34.0</td>\n",
       "      <td>0.9978</td>\n",
       "      <td>3.51</td>\n",
       "      <td>0.56</td>\n",
       "      <td>9.4</td>\n",
       "      <td>5</td>\n",
       "    </tr>\n",
       "  </tbody>\n",
       "</table>\n",
       "</div>"
      ],
      "text/plain": [
       "   fixed_acidity  volatile_acidity  citric_acid  residual_sugar  chlorides  \\\n",
       "0            7.4              0.70         0.00             1.9      0.076   \n",
       "1            7.8              0.88         0.00             2.6      0.098   \n",
       "2            7.8              0.76         0.04             2.3      0.092   \n",
       "3           11.2              0.28         0.56             1.9      0.075   \n",
       "4            7.4              0.70         0.00             1.9      0.076   \n",
       "\n",
       "   free_sulfur_dioxide  total_sulfur_dioxide  density    pH  sulphates  \\\n",
       "0                 11.0                  34.0   0.9978  3.51       0.56   \n",
       "1                 25.0                  67.0   0.9968  3.20       0.68   \n",
       "2                 15.0                  54.0   0.9970  3.26       0.65   \n",
       "3                 17.0                  60.0   0.9980  3.16       0.58   \n",
       "4                 11.0                  34.0   0.9978  3.51       0.56   \n",
       "\n",
       "   alcohol  quality  \n",
       "0      9.4        5  \n",
       "1      9.8        5  \n",
       "2      9.8        5  \n",
       "3      9.8        6  \n",
       "4      9.4        5  "
      ]
     },
     "execution_count": 9,
     "metadata": {},
     "output_type": "execute_result"
    }
   ],
   "source": [
    "df = read_csv(f\"{clean_path}{cleaned_file}\", sep=\";\")\n",
    "df.head()"
   ]
  },
  {
   "cell_type": "markdown",
   "id": "6a88087e",
   "metadata": {},
   "source": [
    "# !!!! to be changed for each traning !!!!"
   ]
  },
  {
   "cell_type": "code",
   "execution_count": 11,
   "id": "c88d2dc8",
   "metadata": {},
   "outputs": [
    {
     "data": {
      "text/plain": [
       "{'target': 'quality',\n",
       " 'features': ['fixed_acidity',\n",
       "  'volatile_acidity',\n",
       "  'citric_acid',\n",
       "  'residual_sugar',\n",
       "  'chlorides',\n",
       "  'free_sulfur_dioxide',\n",
       "  'total_sulfur_dioxide',\n",
       "  'density',\n",
       "  'pH',\n",
       "  'sulphates',\n",
       "  'alcohol'],\n",
       " 'model_name': 'regression_tree_3.pkl',\n",
       " 'data_name': 'winequality-red_20211207104941234987.csv',\n",
       " 'parameters': {'max_depth': 20,\n",
       "  'criterion': 'mae',\n",
       "  'test_split': 0.25,\n",
       "  'random': 43,\n",
       "  'cv': 15},\n",
       " 'result': {'rmse': 0, 'mae': 0, 'r2': 0}}"
      ]
     },
     "execution_count": 11,
     "metadata": {},
     "output_type": "execute_result"
    }
   ],
   "source": [
    "# to be tracked, and updated during each run\n",
    "model_name = \"regression_tree_3.pkl\"\n",
    "model_group = \"regression_tree\"\n",
    "target = \"quality\"\n",
    "rmse = 0\n",
    "mae = 0\n",
    "r2 = 0\n",
    "upload_data = {\n",
    "    \"target\":target,\n",
    "    \"features\": [i for i in df.columns if i!= target],\n",
    "    \"model_group\":model_group,\n",
    "    \"model_name\":model_name, # this is to compare all the related models\n",
    "    \"data_name\":f'{cleaned_file.split(\".\")[0]}_{now}.{cleaned_file.split(\".\")[1]}',\n",
    "    \"parameters\":{\"max_depth\":20,\\\n",
    "                  \"criterion\":\"mae\",\\\n",
    "                  \"test_split\":0.25, \\\n",
    "                  \"random\":43, \\\n",
    "                  \"cv\":15},\n",
    "    \"result\":{\"rmse\":rmse,\\\n",
    "              \"mae\":mae,\\\n",
    "              \"r2\":r2},\n",
    "}\n",
    "upload_data"
   ]
  },
  {
   "cell_type": "markdown",
   "id": "d7a31a27",
   "metadata": {},
   "source": [
    "# splitting data"
   ]
  },
  {
   "cell_type": "code",
   "execution_count": 34,
   "id": "1cd413c4",
   "metadata": {},
   "outputs": [],
   "source": [
    "X = df[[i for i in df.columns if i!=upload_data[\"target\"]]]\n",
    "y = df[[i for i in df.columns if i==upload_data[\"target\"]]]"
   ]
  },
  {
   "cell_type": "code",
   "execution_count": 35,
   "id": "fbd6ca5e",
   "metadata": {},
   "outputs": [],
   "source": [
    "X_train, X_test, y_train, y_test = train_test_split(X,y, test_size=upload_data[\"parameters\"][\"test_split\"], random_state=upload_data[\"parameters\"][\"random\"])"
   ]
  },
  {
   "cell_type": "markdown",
   "id": "24967329",
   "metadata": {},
   "source": [
    "# buiilding the model"
   ]
  },
  {
   "cell_type": "code",
   "execution_count": 36,
   "id": "c99debad",
   "metadata": {},
   "outputs": [],
   "source": [
    "regressor = DecisionTreeRegressor(random_state=upload_data[\"parameters\"][\"random\"],\\\n",
    "                                  criterion=upload_data[\"parameters\"][\"criterion\"],\\\n",
    "                                  max_depth=upload_data[\"parameters\"][\"max_depth\"])"
   ]
  },
  {
   "cell_type": "code",
   "execution_count": 37,
   "id": "da1a348d",
   "metadata": {},
   "outputs": [],
   "source": [
    "regressor.fit(X_train, y_train)\n",
    "predicted_qualities = regressor.predict(X_test)\n",
    "(rmse, mae, r2) = eval_metrics(y_test, predicted_qualities)"
   ]
  },
  {
   "cell_type": "markdown",
   "id": "ad6d650c",
   "metadata": {},
   "source": [
    "# save model"
   ]
  },
  {
   "cell_type": "code",
   "execution_count": 38,
   "id": "11362c79",
   "metadata": {},
   "outputs": [],
   "source": [
    "with open(f'{model_path}{upload_data[\"model_name\"]}', 'wb') as f:\n",
    "    dump(regressor, f)"
   ]
  },
  {
   "cell_type": "markdown",
   "id": "2d0669b2",
   "metadata": {},
   "source": [
    "# uploading data"
   ]
  },
  {
   "cell_type": "code",
   "execution_count": 61,
   "id": "69722a54",
   "metadata": {},
   "outputs": [
    {
     "data": {
      "text/plain": [
       "{'target': 'quality',\n",
       " 'model_name': 'regression_tree_3.pkl',\n",
       " 'data_name': 'winequality-red_20211205210754006272.csv',\n",
       " 'parameters': {'max_depth': 20,\n",
       "  'criterion': 'mae',\n",
       "  'test_split': 0.25,\n",
       "  'random': 43,\n",
       "  'cv': 15},\n",
       " 'result': {'rmse': 0.7407766195014527,\n",
       "  'mae': 0.4275,\n",
       "  'r2': 0.1517809701384395}}"
      ]
     },
     "execution_count": 61,
     "metadata": {},
     "output_type": "execute_result"
    }
   ],
   "source": [
    "upload_data[\"result\"]={\"rmse\":rmse,\\\n",
    "              \"mae\":mae,\\\n",
    "              \"r2\":r2}\n",
    "upload_data"
   ]
  },
  {
   "cell_type": "code",
   "execution_count": 40,
   "id": "f69a980d",
   "metadata": {},
   "outputs": [
    {
     "name": "stdout",
     "output_type": "stream",
     "text": [
      "Model data SUCCESSFULLY stored\n"
     ]
    }
   ],
   "source": [
    "upload_meta = supabase.table(\"tracker\").insert(upload_data).execute()\n",
    "if(upload_meta[\"status_code\"] > 400):\n",
    "    print(f\"FAILED To store the data, check if necessary changes like model name and paramters are updated\")\n",
    "else:\n",
    "    print(f'Model data SUCCESSFULLY stored')"
   ]
  },
  {
   "cell_type": "markdown",
   "id": "40211cdc",
   "metadata": {},
   "source": [
    "# uploading model (WIP)"
   ]
  },
  {
   "cell_type": "code",
   "execution_count": null,
   "id": "a8db89cc",
   "metadata": {},
   "outputs": [],
   "source": [
    "upload_model = supabase.storage.from('models').upload(f'{model_path}{upload_data[\"model_name\"]}', file).execute()"
   ]
  },
  {
   "cell_type": "markdown",
   "id": "fcccb889",
   "metadata": {},
   "source": [
    "# uplaoding data (WIP)"
   ]
  },
  {
   "cell_type": "code",
   "execution_count": null,
   "id": "c41b227a",
   "metadata": {},
   "outputs": [],
   "source": [
    "upload_data = supabase.storage.from('data').upload(f'{clean_path}{upload_data[\"data_name\"]}', file).execute()"
   ]
  },
  {
   "cell_type": "markdown",
   "id": "dc367216",
   "metadata": {},
   "source": [
    "# check out the results in webpage (Standalone, need not run the code)"
   ]
  },
  {
   "cell_type": "code",
   "execution_count": 21,
   "id": "79769920",
   "metadata": {},
   "outputs": [
    {
     "name": "stdout",
     "output_type": "stream",
     "text": [
      "^C\n"
     ]
    }
   ],
   "source": [
    "!streamlit run ../ui/app.py"
   ]
  },
  {
   "cell_type": "code",
   "execution_count": null,
   "id": "4c0d0e96",
   "metadata": {},
   "outputs": [],
   "source": []
  }
 ],
 "metadata": {
  "kernelspec": {
   "display_name": "Python 3",
   "language": "python",
   "name": "python3"
  },
  "language_info": {
   "codemirror_mode": {
    "name": "ipython",
    "version": 3
   },
   "file_extension": ".py",
   "mimetype": "text/x-python",
   "name": "python",
   "nbconvert_exporter": "python",
   "pygments_lexer": "ipython3",
   "version": "3.9.4"
  }
 },
 "nbformat": 4,
 "nbformat_minor": 5
}
